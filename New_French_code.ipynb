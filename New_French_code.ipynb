{
  "nbformat": 4,
  "nbformat_minor": 0,
  "metadata": {
    "colab": {
      "name": "New_French_code.ipynb",
      "provenance": [],
      "collapsed_sections": [],
      "authorship_tag": "ABX9TyMT3et2v5KDO9Ga+C/TdbiM",
      "include_colab_link": true
    },
    "kernelspec": {
      "name": "python3",
      "display_name": "Python 3"
    }
  },
  "cells": [
    {
      "cell_type": "markdown",
      "metadata": {
        "id": "view-in-github",
        "colab_type": "text"
      },
      "source": [
        "<a href=\"https://colab.research.google.com/github/james-monahan/french/blob/main/New_French_code.ipynb\" target=\"_parent\"><img src=\"https://colab.research.google.com/assets/colab-badge.svg\" alt=\"Open In Colab\"/></a>"
      ]
    },
    {
      "cell_type": "code",
      "metadata": {
        "id": "UNEbrIi3ybGd",
        "cellView": "form"
      },
      "source": [
        "#@title Data - \"run cell to continue\"\r\n",
        "import pandas as pd\r\n",
        "import numpy as np\r\n",
        "from IPython.display import clear_output \r\n",
        "import itertools\r\n",
        "\r\n",
        "link2 = \"https://raw.githubusercontent.com/james-monahan/french/main/French_1000.csv\"\r\n",
        "df2 = pd.read_csv(link2).fillna('')\r\n",
        "link = \"https://raw.githubusercontent.com/james-monahan/french/main/RFI%20french%20vocab%20.csv\"\r\n",
        "df = pd.read_csv(link)\r\n",
        "\r\n",
        "#identify unique parts of speech\r\n",
        "x = list(df2.type.unique())\r\n",
        "list2d = [val.split(\",\") for val in x]\r\n",
        "merged = list(itertools.chain.from_iterable(list2d))\r\n",
        "merged = [val.strip() for val in merged if val != '']\r\n",
        "type_vals = list(set(merged))"
      ],
      "execution_count": 97,
      "outputs": []
    },
    {
      "cell_type": "code",
      "metadata": {
        "id": "hWF9X8wyllJr",
        "cellView": "form"
      },
      "source": [
        "#@title Vocab Practice - \"press enter to continue\"\r\n",
        "Num_words_to_practice = 2 #@param {type:\"integer\"}\r\n",
        "Times_to_review = 2 #@param {type:\"integer\"}\r\n",
        "\r\n",
        "choice = np.random.choice(df.shape[0],Num_words_to_practice, replace=False)\r\n",
        "\r\n",
        "def review_vocab_fr_to_eng(Num_words_to_practice, Times_to_review):\r\n",
        "\r\n",
        "  for times in range(Times_to_review):\r\n",
        "\r\n",
        "    for idx in range(len(choice)):\r\n",
        "      print(df.loc[choice[idx], 'French'])\r\n",
        "      if input() == '':\r\n",
        "        print(df.loc[choice[idx], 'English'])  \r\n",
        "      print()\r\n",
        "\r\n",
        "    print(\"clear input\")\r\n",
        "    if input() =='':\r\n",
        "      clear_output()\r\n",
        "\r\n",
        "    for idx in range(len(choice)): \r\n",
        "      print(df.loc[choice[idx], 'English'])\r\n",
        "      if input() == '':\r\n",
        "        print(df.loc[choice[idx], 'French'])  \r\n",
        "      print()\r\n",
        "    \r\n",
        "    print(\"clear input\")\r\n",
        "    if input() =='':\r\n",
        "        clear_output()\r\n",
        "\r\n",
        "review_vocab_fr_to_eng(Num_words_to_practice, Times_to_review)"
      ],
      "execution_count": 98,
      "outputs": []
    },
    {
      "cell_type": "code",
      "metadata": {
        "id": "i78UF3bQBAjN",
        "colab": {
          "base_uri": "https://localhost:8080/"
        },
        "cellView": "form",
        "outputId": "f5f5f307-b829-48b7-9975-9bca071a3fe3"
      },
      "source": [
        "#@title Word Selector\r\n",
        "Pronoun = 2 #@param {type:\"integer\"}\r\n",
        "Verb = 2 #@param {type:\"integer\"}\r\n",
        "Noun = 2 #@param {type:\"integer\"}\r\n",
        "Adjective = 2 #@param {type:\"integer\"}\r\n",
        "\r\n",
        "\r\n",
        "df2_pronoun = df2[df2['type'].str.contains('personal pronoun')]\r\n",
        "df2_adjective = df2[df2['type'].str.contains('adjective')]\r\n",
        "df2_noun = df2[df2['type'].str.contains('noun')]\r\n",
        "df2_verb = df2[df2['type'].str.contains('verb')]\r\n",
        "\r\n",
        "def get_words(Pronoun, Adjective, Noun, Verb):\r\n",
        "  if Pronoun > 0:\r\n",
        "    print('\\n')\r\n",
        "    print(\"Personal Pronouns:\")\r\n",
        "    for _ in range(Pronoun):\r\n",
        "      choice = np.random.choice(df2_pronoun.shape[0])\r\n",
        "      print(df2_pronoun.iloc[choice, 0], end=' ')\r\n",
        "\r\n",
        "  if Verb > 0:\r\n",
        "    print('\\n')\r\n",
        "    print(\"Verbs:\")\r\n",
        "    for _ in range(Verb):\r\n",
        "      choice = np.random.choice(df2_verb.shape[0])\r\n",
        "      print(df2_verb.iloc[choice, 0], end=' ')\r\n",
        "\r\n",
        "  if Noun > 0:\r\n",
        "    print('\\n')\r\n",
        "    print(\"Nouns:\")\r\n",
        "    for _ in range(Noun):\r\n",
        "      choice = np.random.choice(df2_noun.shape[0])\r\n",
        "      print(df2_noun.iloc[choice, 0], end=' ')\r\n",
        "\r\n",
        "  if Adjective > 0:\r\n",
        "    print('\\n')\r\n",
        "    print(\"Adjectives:\")\r\n",
        "    for _ in range(Adjective):\r\n",
        "      choice = np.random.choice(df2_adjective.shape[0])\r\n",
        "      print(df2_adjective.iloc[choice, 0], end=' ')\r\n",
        "\r\n",
        "\r\n",
        "\r\n",
        "\r\n",
        "get_words(Pronoun, Adjective, Noun, Verb)"
      ],
      "execution_count": 96,
      "outputs": [
        {
          "output_type": "stream",
          "text": [
            "\n",
            "\n",
            "Personal Pronouns:\n",
            "nous le \n",
            "\n",
            "Verbs:\n",
            "rejoindre quelque \n",
            "\n",
            "Nouns:\n",
            "la pierre \n",
            "\n",
            "Adjectives:\n",
            "sa joli "
          ],
          "name": "stdout"
        }
      ]
    },
    {
      "cell_type": "code",
      "metadata": {
        "id": "IZASzShfdZHi"
      },
      "source": [
        ""
      ],
      "execution_count": null,
      "outputs": []
    }
  ]
}