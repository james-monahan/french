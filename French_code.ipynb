{
  "nbformat": 4,
  "nbformat_minor": 0,
  "metadata": {
    "colab": {
      "name": "French_code.ipynb",
      "provenance": [],
      "collapsed_sections": [],
      "authorship_tag": "ABX9TyPlqFC+FbQG4jjeHrEZgSFi",
      "include_colab_link": true
    },
    "kernelspec": {
      "name": "python3",
      "display_name": "Python 3"
    }
  },
  "cells": [
    {
      "cell_type": "markdown",
      "metadata": {
        "id": "view-in-github",
        "colab_type": "text"
      },
      "source": [
        "<a href=\"https://colab.research.google.com/github/james-monahan/french/blob/main/French_code.ipynb\" target=\"_parent\"><img src=\"https://colab.research.google.com/assets/colab-badge.svg\" alt=\"Open In Colab\"/></a>"
      ]
    },
    {
      "cell_type": "code",
      "metadata": {
        "id": "2BYs4Bte0PW2"
      },
      "source": [
        "link = \"https://raw.githubusercontent.com/james-monahan/french/main/RFI%20french%20vocab%20-%20Sheet1.csv\""
      ],
      "execution_count": 1,
      "outputs": []
    },
    {
      "cell_type": "code",
      "metadata": {
        "id": "MhHxB0Cy1aDy"
      },
      "source": [
        "import pandas as pd\r\n",
        "import numpy as np\r\n",
        "from IPython.display import clear_output "
      ],
      "execution_count": 59,
      "outputs": []
    },
    {
      "cell_type": "code",
      "metadata": {
        "id": "tLypShKI1y7e"
      },
      "source": [
        "df = pd.read_csv(link)\r\n",
        "df['times_reviewed'] = 0"
      ],
      "execution_count": 18,
      "outputs": []
    },
    {
      "cell_type": "code",
      "metadata": {
        "colab": {
          "base_uri": "https://localhost:8080/",
          "height": 198
        },
        "id": "Sarm23QAlRyP",
        "outputId": "97918b0b-09c3-4230-8075-b8899e0026b9"
      },
      "source": [
        "df.head()"
      ],
      "execution_count": 19,
      "outputs": [
        {
          "output_type": "execute_result",
          "data": {
            "text/html": [
              "<div>\n",
              "<style scoped>\n",
              "    .dataframe tbody tr th:only-of-type {\n",
              "        vertical-align: middle;\n",
              "    }\n",
              "\n",
              "    .dataframe tbody tr th {\n",
              "        vertical-align: top;\n",
              "    }\n",
              "\n",
              "    .dataframe thead th {\n",
              "        text-align: right;\n",
              "    }\n",
              "</style>\n",
              "<table border=\"1\" class=\"dataframe\">\n",
              "  <thead>\n",
              "    <tr style=\"text-align: right;\">\n",
              "      <th></th>\n",
              "      <th>French</th>\n",
              "      <th>English</th>\n",
              "      <th>Source</th>\n",
              "      <th>times_reviewed</th>\n",
              "    </tr>\n",
              "  </thead>\n",
              "  <tbody>\n",
              "    <tr>\n",
              "      <th>0</th>\n",
              "      <td>d'une envergure,</td>\n",
              "      <td>of a scale,</td>\n",
              "      <td>missing</td>\n",
              "      <td>0</td>\n",
              "    </tr>\n",
              "    <tr>\n",
              "      <th>1</th>\n",
              "      <td>d’une ampleur exceptionnelle</td>\n",
              "      <td>of an exceptional magnitude</td>\n",
              "      <td>missing</td>\n",
              "      <td>0</td>\n",
              "    </tr>\n",
              "    <tr>\n",
              "      <th>2</th>\n",
              "      <td>contre une rançon</td>\n",
              "      <td>for ransom</td>\n",
              "      <td>missing</td>\n",
              "      <td>0</td>\n",
              "    </tr>\n",
              "    <tr>\n",
              "      <th>3</th>\n",
              "      <td>allumeront leur ordinateur.</td>\n",
              "      <td>turn on their computers.</td>\n",
              "      <td>missing</td>\n",
              "      <td>0</td>\n",
              "    </tr>\n",
              "    <tr>\n",
              "      <th>4</th>\n",
              "      <td>personne n'avait jamais rien vu de tel.</td>\n",
              "      <td>nobody had ever seen anything like it.</td>\n",
              "      <td>missing</td>\n",
              "      <td>0</td>\n",
              "    </tr>\n",
              "  </tbody>\n",
              "</table>\n",
              "</div>"
            ],
            "text/plain": [
              "                                    French  ... times_reviewed\n",
              "0                        d'une envergure,   ...              0\n",
              "1             d’une ampleur exceptionnelle  ...              0\n",
              "2                        contre une rançon  ...              0\n",
              "3              allumeront leur ordinateur.  ...              0\n",
              "4  personne n'avait jamais rien vu de tel.  ...              0\n",
              "\n",
              "[5 rows x 4 columns]"
            ]
          },
          "metadata": {
            "tags": []
          },
          "execution_count": 19
        }
      ]
    },
    {
      "cell_type": "code",
      "metadata": {
        "id": "hWF9X8wyllJr"
      },
      "source": [
        "def review_vocab_fr_to_eng(df, times):\r\n",
        "  idx = []\r\n",
        "  for _ in range(times):\r\n",
        "    choice = np.random.choice(df.shape[0])\r\n",
        "    idx.append(choice)\r\n",
        "    print(df.loc[choice, 'French'])\r\n",
        "\r\n",
        "    if input() == '':\r\n",
        "      print(df.loc[choice, 'English'])  \r\n",
        "    df.loc[choice, 'times_reviewed'] += 1\r\n",
        "    print()\r\n",
        "\r\n",
        "  print(\"clear input\")\r\n",
        "  if input() =='':\r\n",
        "    clear_output()\r\n",
        "\r\n",
        "  for _ in range(times):\r\n",
        "    print(df.loc[idx[_], 'English'])\r\n",
        "    x = input()\r\n",
        "    if x == '':\r\n",
        "      print(df.loc[idx[_], 'French'])  \r\n",
        "    print()\r\n",
        "  "
      ],
      "execution_count": 64,
      "outputs": []
    },
    {
      "cell_type": "code",
      "metadata": {
        "colab": {
          "base_uri": "https://localhost:8080/"
        },
        "id": "ze09qUsbmMEU",
        "outputId": "1d7409a8-d25f-42e2-8a5a-29938f1c20f9"
      },
      "source": [
        "review_vocab_fr_to_eng(df,2)"
      ],
      "execution_count": 65,
      "outputs": [
        {
          "output_type": "stream",
          "text": [
            "nobody had ever seen anything like it.\n",
            "\n",
            "personne n'avait jamais rien vu de tel.\n",
            "\n",
            "narcissistic\n",
            "\n",
            "narcissique\n",
            "\n"
          ],
          "name": "stdout"
        }
      ]
    }
  ]
}